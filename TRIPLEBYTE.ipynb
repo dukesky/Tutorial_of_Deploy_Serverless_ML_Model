{
 "cells": [
  {
   "cell_type": "code",
   "execution_count": 30,
   "metadata": {},
   "outputs": [],
   "source": [
    "import pandas as pd\n",
    "import matplotlib.pyplot as plt\n",
    "import numpy as np"
   ]
  },
  {
   "cell_type": "code",
   "execution_count": 19,
   "metadata": {},
   "outputs": [],
   "source": [
    "df = pd.read_csv('F:/ML/dataset.csv')"
   ]
  },
  {
   "cell_type": "code",
   "execution_count": 3,
   "metadata": {},
   "outputs": [
    {
     "data": {
      "text/html": [
       "<div>\n",
       "<style scoped>\n",
       "    .dataframe tbody tr th:only-of-type {\n",
       "        vertical-align: middle;\n",
       "    }\n",
       "\n",
       "    .dataframe tbody tr th {\n",
       "        vertical-align: top;\n",
       "    }\n",
       "\n",
       "    .dataframe thead th {\n",
       "        text-align: right;\n",
       "    }\n",
       "</style>\n",
       "<table border=\"1\" class=\"dataframe\">\n",
       "  <thead>\n",
       "    <tr style=\"text-align: right;\">\n",
       "      <th></th>\n",
       "      <th>id</th>\n",
       "      <th>TV</th>\n",
       "      <th>radio</th>\n",
       "      <th>newspaper</th>\n",
       "      <th>sales</th>\n",
       "    </tr>\n",
       "  </thead>\n",
       "  <tbody>\n",
       "    <tr>\n",
       "      <th>0</th>\n",
       "      <td>1</td>\n",
       "      <td>230.1</td>\n",
       "      <td>37.8</td>\n",
       "      <td>69.2</td>\n",
       "      <td>22.1</td>\n",
       "    </tr>\n",
       "    <tr>\n",
       "      <th>1</th>\n",
       "      <td>2</td>\n",
       "      <td>44.5</td>\n",
       "      <td>39.3</td>\n",
       "      <td>45.1</td>\n",
       "      <td>10.4</td>\n",
       "    </tr>\n",
       "    <tr>\n",
       "      <th>2</th>\n",
       "      <td>3</td>\n",
       "      <td>17.2</td>\n",
       "      <td>45.9</td>\n",
       "      <td>69.3</td>\n",
       "      <td>9.3</td>\n",
       "    </tr>\n",
       "    <tr>\n",
       "      <th>3</th>\n",
       "      <td>4</td>\n",
       "      <td>151.5</td>\n",
       "      <td>41.3</td>\n",
       "      <td>58.5</td>\n",
       "      <td>18.5</td>\n",
       "    </tr>\n",
       "    <tr>\n",
       "      <th>4</th>\n",
       "      <td>5</td>\n",
       "      <td>180.8</td>\n",
       "      <td>10.8</td>\n",
       "      <td>58.4</td>\n",
       "      <td>12.9</td>\n",
       "    </tr>\n",
       "  </tbody>\n",
       "</table>\n",
       "</div>"
      ],
      "text/plain": [
       "   id     TV  radio  newspaper  sales\n",
       "0   1  230.1   37.8       69.2   22.1\n",
       "1   2   44.5   39.3       45.1   10.4\n",
       "2   3   17.2   45.9       69.3    9.3\n",
       "3   4  151.5   41.3       58.5   18.5\n",
       "4   5  180.8   10.8       58.4   12.9"
      ]
     },
     "execution_count": 3,
     "metadata": {},
     "output_type": "execute_result"
    }
   ],
   "source": [
    "df.head()"
   ]
  },
  {
   "cell_type": "code",
   "execution_count": 20,
   "metadata": {},
   "outputs": [
    {
     "data": {
      "text/plain": [
       "(210, 5)"
      ]
     },
     "execution_count": 20,
     "metadata": {},
     "output_type": "execute_result"
    }
   ],
   "source": [
    "df.shape"
   ]
  },
  {
   "cell_type": "code",
   "execution_count": 27,
   "metadata": {},
   "outputs": [],
   "source": [
    "df = df[df.TV < 100000]"
   ]
  },
  {
   "cell_type": "code",
   "execution_count": 22,
   "metadata": {},
   "outputs": [
    {
     "data": {
      "text/plain": [
       "(204, 5)"
      ]
     },
     "execution_count": 22,
     "metadata": {},
     "output_type": "execute_result"
    }
   ],
   "source": [
    "df_clean.shape"
   ]
  },
  {
   "cell_type": "code",
   "execution_count": 25,
   "metadata": {},
   "outputs": [
    {
     "data": {
      "text/plain": [
       "[5.4,\n",
       " 7.3,\n",
       " 8.6,\n",
       " 8.7,\n",
       " 13.2,\n",
       " 16.9,\n",
       " 17.2,\n",
       " 23.8,\n",
       " 25.1,\n",
       " 26.8,\n",
       " 27.5,\n",
       " 28.6,\n",
       " 31.5,\n",
       " 31.5,\n",
       " 43.1,\n",
       " 44.5,\n",
       " 53.5,\n",
       " 57.5,\n",
       " 62.3,\n",
       " 66.1,\n",
       " 66.9,\n",
       " 67.8,\n",
       " 68.4,\n",
       " 69.0,\n",
       " 69.2,\n",
       " 70.6,\n",
       " 74.7,\n",
       " 75.3,\n",
       " 76.3,\n",
       " 76.4,\n",
       " 88.3,\n",
       " 89.7,\n",
       " 95.7,\n",
       " 97.2,\n",
       " 97.5,\n",
       " 100.4,\n",
       " 102.7,\n",
       " 109.8,\n",
       " 109.8,\n",
       " 109.8,\n",
       " 110.7,\n",
       " 112.9,\n",
       " 116.0,\n",
       " 120.2,\n",
       " 120.5,\n",
       " 129.4,\n",
       " 131.1,\n",
       " 134.3,\n",
       " 135.2,\n",
       " 139.3,\n",
       " 139.3,\n",
       " 142.9,\n",
       " 147.3,\n",
       " 151.5,\n",
       " 163.3,\n",
       " 175.1,\n",
       " 177.0,\n",
       " 180.8,\n",
       " 180.8,\n",
       " 182.6,\n",
       " 184.9,\n",
       " 193.2,\n",
       " 195.4,\n",
       " 197.6,\n",
       " 198.9,\n",
       " 199.1,\n",
       " 199.8,\n",
       " 199.8,\n",
       " 202.5,\n",
       " 206.9,\n",
       " 210.7,\n",
       " 210.8,\n",
       " 213.4,\n",
       " 213.5,\n",
       " 214.7,\n",
       " 216.4,\n",
       " 216.8,\n",
       " 218.4,\n",
       " 222.4,\n",
       " 227.2,\n",
       " 228.0,\n",
       " 228.3,\n",
       " 230.1,\n",
       " 237.4,\n",
       " 237.4,\n",
       " 239.3,\n",
       " 239.8,\n",
       " 239.9,\n",
       " 240.1,\n",
       " 248.8,\n",
       " 250.9,\n",
       " 261.3,\n",
       " 262.7,\n",
       " 262.9,\n",
       " 265.6,\n",
       " 266.9,\n",
       " 281.4,\n",
       " 289.7,\n",
       " 290.7,\n",
       " 292.9,\n",
       " 293.6,\n",
       " 296.4,\n",
       " 1000000000000.0,\n",
       " 1000000000000.0,\n",
       " nan,\n",
       " 0.7,\n",
       " 0.7,\n",
       " 7.8,\n",
       " 8.4,\n",
       " 13.1,\n",
       " 18.8,\n",
       " 19.4,\n",
       " 25.0,\n",
       " 25.6,\n",
       " 36.9,\n",
       " 38.0,\n",
       " 43.0,\n",
       " 44.7,\n",
       " 48.3,\n",
       " 59.6,\n",
       " 73.4,\n",
       " 75.1,\n",
       " 76.4,\n",
       " 78.2,\n",
       " 80.2,\n",
       " 87.2,\n",
       " 90.4,\n",
       " 96.2,\n",
       " 104.6,\n",
       " 104.6,\n",
       " 123.1,\n",
       " 125.7,\n",
       " 137.9,\n",
       " 139.2,\n",
       " 140.3,\n",
       " 141.3,\n",
       " 175.7,\n",
       " 175.7,\n",
       " 184.9,\n",
       " 187.9,\n",
       " 193.7,\n",
       " 209.6,\n",
       " 219.8,\n",
       " 220.3,\n",
       " 220.5,\n",
       " 224.0,\n",
       " 225.8,\n",
       " 229.5,\n",
       " 238.2,\n",
       " 240.1,\n",
       " 240.1,\n",
       " 241.7,\n",
       " 255.4,\n",
       " 265.2,\n",
       " 273.7,\n",
       " 280.2,\n",
       " nan,\n",
       " 4.1,\n",
       " 11.7,\n",
       " 17.2,\n",
       " 17.9,\n",
       " 18.7,\n",
       " 19.6,\n",
       " 38.2,\n",
       " 39.5,\n",
       " 50.0,\n",
       " 56.2,\n",
       " 75.5,\n",
       " 85.7,\n",
       " 93.9,\n",
       " 94.2,\n",
       " 117.2,\n",
       " 121.0,\n",
       " 131.7,\n",
       " 139.5,\n",
       " 149.7,\n",
       " 149.8,\n",
       " 156.6,\n",
       " 163.5,\n",
       " 164.5,\n",
       " 165.6,\n",
       " 166.8,\n",
       " 168.4,\n",
       " 170.2,\n",
       " 171.3,\n",
       " 171.3,\n",
       " 172.5,\n",
       " 177.0,\n",
       " 187.8,\n",
       " 188.4,\n",
       " 191.1,\n",
       " 197.6,\n",
       " 205.0,\n",
       " 206.8,\n",
       " 215.4,\n",
       " 218.5,\n",
       " 222.4,\n",
       " 232.1,\n",
       " 234.5,\n",
       " 248.4,\n",
       " 253.8,\n",
       " 276.7,\n",
       " 276.9,\n",
       " 280.7,\n",
       " 280.7,\n",
       " 284.3,\n",
       " 286.0,\n",
       " 287.6,\n",
       " 1000000000000.0,\n",
       " nan]"
      ]
     },
     "execution_count": 25,
     "metadata": {},
     "output_type": "execute_result"
    }
   ],
   "source": [
    "sorted(df.TV)"
   ]
  },
  {
   "cell_type": "code",
   "execution_count": 28,
   "metadata": {},
   "outputs": [
    {
     "data": {
      "text/plain": [
       "<matplotlib.legend.Legend at 0x2d1ab5dbf60>"
      ]
     },
     "execution_count": 28,
     "metadata": {},
     "output_type": "execute_result"
    },
    {
     "data": {
      "image/png": "[encoded data removed]",
      "text/plain": [
       "<Figure size 432x288 with 3 Axes>"
      ]
     },
     "metadata": {
      "needs_background": "light"
     },
     "output_type": "display_data"
    }
   ],
   "source": [
    "plt.subplot(3,1,1)\n",
    "plt.plot(df.TV,df.sales,'r*',label = 'TV')\n",
    "plt.subplot(3,1,2)\n",
    "plt.plot(df.radio,df.sales,'g*',label = 'radio')\n",
    "plt.subplot(3,1,3)\n",
    "plt.plot(df.newspaper,df.sales,'b*', label = 'newspaper')\n",
    "plt.legend()\n"
   ]
  },
  {
   "cell_type": "code",
   "execution_count": 8,
   "metadata": {},
   "outputs": [
    {
     "data": {
      "text/plain": [
       "1000000000000.0"
      ]
     },
     "execution_count": 8,
     "metadata": {},
     "output_type": "execute_result"
    }
   ],
   "source": []
  },
  {
   "cell_type": "code",
   "execution_count": null,
   "metadata": {},
   "outputs": [],
   "source": []
  },
  {
   "cell_type": "code",
   "execution_count": 29,
   "metadata": {},
   "outputs": [
    {
     "name": "stdout",
     "output_type": "stream",
     "text": [
      "correlation in column TV is 0.77\n",
      "correlation in column radio is 0.54\n",
      "correlation in column newspaper is 0.21\n"
     ]
    }
   ],
   "source": [
    "for column in ['TV','radio','newspaper']:\n",
    "    print('correlation in column %s is %4.2f'%(column,df.sales.corr(df[column])))"
   ]
  },
  {
   "cell_type": "code",
   "execution_count": null,
   "metadata": {},
   "outputs": [],
   "source": []
  },
  {
   "cell_type": "markdown",
   "metadata": {},
   "source": [
    "## Linear Regression"
   ]
  },
  {
   "cell_type": "code",
   "execution_count": 32,
   "metadata": {},
   "outputs": [],
   "source": [
    "df = pd.read_csv('F:/ML/linear_regression.csv')"
   ]
  },
  {
   "cell_type": "code",
   "execution_count": 50,
   "metadata": {},
   "outputs": [
    {
     "data": {
      "text/html": [
       "<div>\n",
       "<style scoped>\n",
       "    .dataframe tbody tr th:only-of-type {\n",
       "        vertical-align: middle;\n",
       "    }\n",
       "\n",
       "    .dataframe tbody tr th {\n",
       "        vertical-align: top;\n",
       "    }\n",
       "\n",
       "    .dataframe thead th {\n",
       "        text-align: right;\n",
       "    }\n",
       "</style>\n",
       "<table border=\"1\" class=\"dataframe\">\n",
       "  <thead>\n",
       "    <tr style=\"text-align: right;\">\n",
       "      <th></th>\n",
       "      <th>x1</th>\n",
       "      <th>x2</th>\n",
       "      <th>x3</th>\n",
       "      <th>y</th>\n",
       "    </tr>\n",
       "  </thead>\n",
       "  <tbody>\n",
       "    <tr>\n",
       "      <th>0</th>\n",
       "      <td>0.0</td>\n",
       "      <td>-2.0</td>\n",
       "      <td>3.0</td>\n",
       "      <td>-1.0</td>\n",
       "    </tr>\n",
       "    <tr>\n",
       "      <th>1</th>\n",
       "      <td>2.0</td>\n",
       "      <td>0.0</td>\n",
       "      <td>1.0</td>\n",
       "      <td>3.0</td>\n",
       "    </tr>\n",
       "    <tr>\n",
       "      <th>2</th>\n",
       "      <td>-2.0</td>\n",
       "      <td>0.0</td>\n",
       "      <td>-3.0</td>\n",
       "      <td>-3.1</td>\n",
       "    </tr>\n",
       "    <tr>\n",
       "      <th>3</th>\n",
       "      <td>-1.0</td>\n",
       "      <td>2.0</td>\n",
       "      <td>1.0</td>\n",
       "      <td>-0.0</td>\n",
       "    </tr>\n",
       "    <tr>\n",
       "      <th>4</th>\n",
       "      <td>3.0</td>\n",
       "      <td>3.0</td>\n",
       "      <td>-4.0</td>\n",
       "      <td>-9.0</td>\n",
       "    </tr>\n",
       "  </tbody>\n",
       "</table>\n",
       "</div>"
      ],
      "text/plain": [
       "    x1   x2   x3    y\n",
       "0  0.0 -2.0  3.0 -1.0\n",
       "1  2.0  0.0  1.0  3.0\n",
       "2 -2.0  0.0 -3.0 -3.1\n",
       "3 -1.0  2.0  1.0 -0.0\n",
       "4  3.0  3.0 -4.0 -9.0"
      ]
     },
     "execution_count": 50,
     "metadata": {},
     "output_type": "execute_result"
    }
   ],
   "source": [
    "df.head()"
   ]
  },
  {
   "cell_type": "code",
   "execution_count": 82,
   "metadata": {},
   "outputs": [],
   "source": [
    "theta = np.ones(df.shape[1])\n",
    "def predict(x,theta):\n",
    "    return (x*theta[1:]).sum(axis=1)+np.ones(x.shape[0])*theta[0]"
   ]
  },
  {
   "cell_type": "code",
   "execution_count": 92,
   "metadata": {},
   "outputs": [
    {
     "data": {
      "text/plain": [
       "0    2.0\n",
       "1    4.0\n",
       "dtype: float64"
      ]
     },
     "execution_count": 92,
     "metadata": {},
     "output_type": "execute_result"
    }
   ],
   "source": [
    "predict(X,theta)"
   ]
  },
  {
   "cell_type": "code",
   "execution_count": 86,
   "metadata": {},
   "outputs": [],
   "source": [
    "def loss(X,y,theta):\n",
    "    return ((predict(X,theta)- y)**2).mean()\n",
    "    "
   ]
  },
  {
   "cell_type": "code",
   "execution_count": 87,
   "metadata": {},
   "outputs": [
    {
     "data": {
      "text/plain": [
       "5.0"
      ]
     },
     "execution_count": 87,
     "metadata": {},
     "output_type": "execute_result"
    }
   ],
   "source": [
    "loss(df.iloc[:2,:-1],df.iloc[:2,-1])"
   ]
  },
  {
   "cell_type": "code",
   "execution_count": 89,
   "metadata": {},
   "outputs": [],
   "source": [
    "X = df.iloc[:2,:-1]\n",
    "y = df.iloc[:2,-1]"
   ]
  },
  {
   "cell_type": "code",
   "execution_count": 93,
   "metadata": {},
   "outputs": [
    {
     "data": {
      "text/plain": [
       "0   -1.0\n",
       "1    3.0\n",
       "Name: y, dtype: float64"
      ]
     },
     "execution_count": 93,
     "metadata": {},
     "output_type": "execute_result"
    }
   ],
   "source": [
    "y"
   ]
  },
  {
   "cell_type": "code",
   "execution_count": 99,
   "metadata": {},
   "outputs": [],
   "source": [
    "def loss_grad(theta,X,y):\n",
    "    \n",
    "    theta_0_loss = 2*(predict(X,theta)-y).mean(axis = 0)\n",
    "    theta_loss = (2*(predict(X,theta)-y)*X).mean(axis =0)\n",
    "    return theta_0_loss, theta_loss\n",
    "    "
   ]
  },
  {
   "cell_type": "code",
   "execution_count": 101,
   "metadata": {},
   "outputs": [],
   "source": [
    "a,b = loss_grad(theta,X,y)"
   ]
  },
  {
   "cell_type": "code",
   "execution_count": 102,
   "metadata": {},
   "outputs": [
    {
     "data": {
      "text/plain": [
       "4.0"
      ]
     },
     "execution_count": 102,
     "metadata": {},
     "output_type": "execute_result"
    }
   ],
   "source": [
    "a"
   ]
  },
  {
   "cell_type": "code",
   "execution_count": 103,
   "metadata": {},
   "outputs": [
    {
     "data": {
      "text/plain": [
       "x1   NaN\n",
       "x2   NaN\n",
       "x3   NaN\n",
       "0    NaN\n",
       "1    NaN\n",
       "dtype: float64"
      ]
     },
     "execution_count": 103,
     "metadata": {},
     "output_type": "execute_result"
    }
   ],
   "source": [
    "b"
   ]
  },
  {
   "cell_type": "code",
   "execution_count": null,
   "metadata": {},
   "outputs": [],
   "source": []
  },
  {
   "cell_type": "code",
   "execution_count": null,
   "metadata": {},
   "outputs": [],
   "source": []
  }
 ],
 "metadata": {
  "kernelspec": {
   "display_name": "Python 3",
   "language": "python",
   "name": "python3"
  },
  "language_info": {
   "codemirror_mode": {
    "name": "ipython",
    "version": 3
   },
   "file_extension": ".py",
   "mimetype": "text/x-python",
   "name": "python",
   "nbconvert_exporter": "python",
   "pygments_lexer": "ipython3",
   "version": "3.6.8"
  }
 },
 "nbformat": 4,
 "nbformat_minor": 2
}
